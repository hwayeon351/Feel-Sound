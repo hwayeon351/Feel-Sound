#coding=UTF-8
import glob
import os
import librosa
import numpy as np
import tensorflow as tf
from sklearn.metrics import precision_recall_fscore_support
from sklearn.preprocessing import StandardScaler
#from sklearn.cross_validation import train_test_split
from sklearn.model_selection import train_test_split
from sklearn.utils import shuffle


def get_stream(audio, window_size): # fix the audio daya size up to 1.6s (512*64frames=32768)
    if audio.shape[0] < window_size:
        padding = np.zeros(window_size-audio.shape[0]) 
        stream = np.concatenate((audio,padding), axis=0) 
    elif audio.shape[0] >= window_size:
        stream = np.resize(audio,window_size)

    return stream

def windows(data, window_size):
    start = 0
    while start < len(data):
        yield int(start), int(start + window_size)
        start += (window_size / 2)

def extract_features(parent_dir,sub_dirs,file_ext="*.wav",bands = 64, frames = 41): 
    window_size = 512 * (frames - 1)
    log_specgrams = []
    labels = []
    for l, sub_dir in enumerate(sub_dirs):
        print (sub_dir)
        for fn in glob.glob(os.path.join(parent_dir, sub_dir, file_ext)):
            sound_clip,s = librosa.load(fn) 
            label = sub_dir
            for (start,end) in windows(sound_clip,window_size):
                if(len(sound_clip[start:end]) == window_size):
                    signal = sound_clip[start:end]
                    melspec = librosa.feature.melspectrogram(signal, n_mels = bands)
                    logspec = librosa.amplitude_to_db(melspec)
                    logspec = logspec.T.flatten()[:, np.newaxis].T
                    log_specgrams.append(logspec)
                    labels.append(label)
                     
    log_specgrams = np.asarray(log_specgrams).reshape(len(log_specgrams),bands,frames,1) 
    features = np.concatenate((log_specgrams, np.zeros(np.shape(log_specgrams))), axis = 3) #3D array
    for i in range(len(features)):
        features[i, :, :, 1] = librosa.feature.delta(features[i, :, :, 0])
    return np.array(features), np.array(labels,dtype = np.int)


parent_dir = 'contestsound'
print("START")
sub_dirs = ['0','1','2','3','4', '5']
'''
0 babycrying
1 car
2 dog
3 jackhammer
4 siren
5 other
'''
features, labels = extract_features(parent_dir,sub_dirs)

validation_size = 0.20
seed = 42
X_train, X_test, Y_train, Y_test = train_test_split(features, labels, test_size=validation_size, random_state=seed)

from keras import models
from keras import layers
from keras.models import Model
from keras.models import Sequential
from keras.layers import Dense, Dropout, Activation, Flatten
from keras.layers import Convolution2D, Conv2D, MaxPool2D, GlobalAveragePooling2D
from keras.optimizers import Adam
from keras.utils import np_utils
from sklearn import metrics 

# Construct model 
model =models.Sequential()

model.add(layers.Conv2D(24, (4, 4), activation='relu', input_shape=(64, 41, 2))) #bands,frames 128
model.add(layers.MaxPooling2D((2, 1)))
model.add(layers.Dropout(0.5))

model.add(layers.Conv2D(48, (4, 4), activation='relu'))
model.add(layers.MaxPooling2D((2, 1)))
model.add(layers.Dropout(0.5))

model.add(layers.Conv2D(48, (4, 4), activation='relu'))

model.add(layers.Flatten())
model.add(layers.Dense(64, activation='relu'))
model.add(layers.Dense(6, activation='softmax'))

model.compile(optimizer='adam',
              loss='sparse_categorical_crossentropy',
              metrics=['accuracy'])

history = model.fit(X_train, Y_train, epochs=50, 
                    validation_data=(X_test, Y_test))

import matplotlib.pyplot as plt
from matplotlib.pyplot import specgram

plt.plot(history.history['accuracy'], label='accuracy')
plt.plot(history.history['val_accuracy'], label = 'val_accuracy')
plt.xlabel('Epoch')
plt.ylabel('Accuracy')
plt.ylim([0.5, 1])
plt.legend(loc='lower right')

test_loss, test_acc = model.evaluate(X_test,  Y_test, verbose=2)


train_score = model.evaluate(X_train, Y_train, verbose=0)
test_score = model.evaluate(X_test, Y_test, verbose=0)

print("Training Accuracy: ", train_score[1])
print("Testing Accuracy: ", test_score[1])

model.save('contest_model.h5')
