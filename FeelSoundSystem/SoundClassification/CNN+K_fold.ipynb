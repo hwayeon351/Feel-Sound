{
 "cells": [
  {
   "cell_type": "code",
   "execution_count": 1,
   "metadata": {
    "scrolled": true
   },
   "outputs": [
    {
     "name": "stdout",
     "output_type": "stream",
     "text": [
      "START\n",
      "0\n",
      "1\n",
      "2\n",
      "3\n",
      "4\n"
     ]
    }
   ],
   "source": [
    "#coding=UTF-8\n",
    "import glob\n",
    "import os\n",
    "import librosa\n",
    "import numpy as np\n",
    "import tensorflow as tf\n",
    "from sklearn.metrics import precision_recall_fscore_support\n",
    "from sklearn.preprocessing import StandardScaler\n",
    "from sklearn.model_selection import train_test_split\n",
    "from sklearn.utils import shuffle\n",
    "\n",
    "#전처리\n",
    "def get_stream(audio, window_size): # fix the audio daya size up to 3s (512*128frames=65536)\n",
    "    if audio.shape[0] < window_size:\n",
    "        padding = np.zeros(window_size-audio.shape[0]) #window size만큼 Zero-Padding\n",
    "        stream = np.concatenate((audio,padding), axis=0) #audio and padding will be joined\n",
    "    elif audio.shape[0] >= window_size:\n",
    "        stream = np.resize(audio,window_size)\n",
    "\n",
    "    return stream\n",
    "\n",
    "def windows(data, window_size):\n",
    "    start = 0\n",
    "    while start < len(data):\n",
    "        yield int(start), int(start + window_size)\n",
    "        start += (window_size / 2)\n",
    "\n",
    "\n",
    "#특징추출\n",
    "def extract_features(parent_dir,sub_dirs,file_ext=\"*.wav\",bands = 64, frames = 41): #bands,frames 128\n",
    "    window_size = 512 * (frames - 1)\n",
    "    log_specgrams = []\n",
    "    labels = []\n",
    "    for l, sub_dir in enumerate(sub_dirs):\n",
    "        print (sub_dir)\n",
    "        for fn in glob.glob(os.path.join(parent_dir, sub_dir, file_ext)): #glob.glob를 통해 디렉토리 내 파일 목록을 가져옴\n",
    "            sound_clip,s = librosa.load(fn) #Read file and get sr, s=sampling rate(sr) of sound_clip\n",
    "            label = sub_dir\n",
    "            for (start,end) in windows(sound_clip,window_size):\n",
    "                if(len(sound_clip[start:end]) == window_size):\n",
    "                    signal = sound_clip[start:end]\n",
    "                    melspec = librosa.feature.melspectrogram(signal, n_mels = bands)\n",
    "                    logspec = librosa.amplitude_to_db(melspec)\n",
    "                    logspec = logspec.T.flatten()[:, np.newaxis].T\n",
    "                    log_specgrams.append(logspec)\n",
    "                    labels.append(label)\n",
    "                     \n",
    "    log_specgrams = np.asarray(log_specgrams).reshape(len(log_specgrams),bands,frames,1) #1D\n",
    "    features = np.concatenate((log_specgrams, np.zeros(np.shape(log_specgrams))), axis = 3) #3D array\n",
    "    for i in range(len(features)):\n",
    "        features[i, :, :, 1] = librosa.feature.delta(features[i, :, :, 0])\n",
    "    return np.array(features), np.array(labels,dtype = np.int)\n",
    "\n",
    "\n",
    "parent_dir = 'sound_sample'\n",
    "print(\"START\")\n",
    "sub_dirs = ['0','1','2','3','4']\n",
    "'''\n",
    "0 car\n",
    "1 dog\n",
    "2 babycrying\n",
    "3 siren\n",
    "4 other(daily)\n",
    "'''\n",
    "features, labels = extract_features(parent_dir,sub_dirs)\n"
   ]
  },
  {
   "cell_type": "code",
   "execution_count": 2,
   "metadata": {},
   "outputs": [
    {
     "data": {
      "text/plain": [
       "Counter({0: 918, 1: 1049, 2: 1245, 3: 842, 4: 4467})"
      ]
     },
     "execution_count": 2,
     "metadata": {},
     "output_type": "execute_result"
    }
   ],
   "source": [
    "import collections\n",
    "collections.Counter(labels) #Window size만큼 나누어 붙인 라벨 당 개수"
   ]
  },
  {
   "cell_type": "code",
   "execution_count": 3,
   "metadata": {},
   "outputs": [
    {
     "name": "stdout",
     "output_type": "stream",
     "text": [
      "(8521, 64, 41, 2)\n",
      "(8521,)\n"
     ]
    }
   ],
   "source": [
    "print(features.shape) #shape -> 차원 확인, (window sized features, 64 bandwidth, 41 frames, channels)--->왜 channels=2가 나오지????\n",
    "print(labels.shape)"
   ]
  },
  {
   "cell_type": "code",
   "execution_count": 4,
   "metadata": {},
   "outputs": [
    {
     "name": "stdout",
     "output_type": "stream",
     "text": [
      "(6816, 64, 41, 2)\n",
      "(6816,)\n",
      "(1705, 64, 41, 2)\n",
      "(1705,)\n"
     ]
    }
   ],
   "source": [
    "validation_size = 0.20\n",
    "seed = 42\n",
    "X_train, X_test, Y_train, Y_test = train_test_split(features, labels, test_size=validation_size, random_state=seed)\n",
    "print(X_train.shape)\n",
    "print(Y_train.shape)\n",
    "print(X_test.shape)\n",
    "print(Y_test.shape)"
   ]
  },
  {
   "cell_type": "code",
   "execution_count": 5,
   "metadata": {},
   "outputs": [
    {
     "name": "stdout",
     "output_type": "stream",
     "text": [
      "Model: \"sequential_1\"\n",
      "_________________________________________________________________\n",
      "Layer (type)                 Output Shape              Param #   \n",
      "=================================================================\n",
      "conv2d_1 (Conv2D)            (None, 61, 38, 24)        792       \n",
      "_________________________________________________________________\n",
      "dropout_1 (Dropout)          (None, 61, 38, 24)        0         \n",
      "_________________________________________________________________\n",
      "conv2d_2 (Conv2D)            (None, 58, 35, 48)        18480     \n",
      "_________________________________________________________________\n",
      "dropout_2 (Dropout)          (None, 58, 35, 48)        0         \n",
      "_________________________________________________________________\n",
      "conv2d_3 (Conv2D)            (None, 55, 32, 48)        36912     \n",
      "_________________________________________________________________\n",
      "flatten_1 (Flatten)          (None, 84480)             0         \n",
      "_________________________________________________________________\n",
      "dense_1 (Dense)              (None, 32)                2703392   \n",
      "_________________________________________________________________\n",
      "dense_2 (Dense)              (None, 5)                 165       \n",
      "=================================================================\n",
      "Total params: 2,759,741\n",
      "Trainable params: 2,759,741\n",
      "Non-trainable params: 0\n",
      "_________________________________________________________________\n"
     ]
    },
    {
     "name": "stderr",
     "output_type": "stream",
     "text": [
      "Using TensorFlow backend.\n"
     ]
    }
   ],
   "source": [
    "from keras import models\n",
    "from keras import layers\n",
    "from keras.models import Model\n",
    "from keras.models import Sequential\n",
    "from keras.layers import Dense, Dropout, Activation, Flatten\n",
    "from keras.layers import Convolution2D, Conv2D, MaxPool2D, GlobalAveragePooling2D\n",
    "from keras.optimizers import Adam\n",
    "from keras.utils import np_utils\n",
    "from sklearn import metrics \n",
    "\n",
    "# Construct model \n",
    "#model =models.Sequential(), 모델 초기화\n",
    "model =models.Sequential()\n",
    "# model2 = models.Sequential()\n",
    "\n",
    "# model\n",
    "#Conv2D(filters, kernel, rectifier, (cols,rows,channels))\n",
    "model.add(layers.Conv2D(24, (4, 4), activation='relu', input_shape=(64, 41, 2))) #bands,frames 128\n",
    "#model.add(layers.MaxPooling2D((4, 2)))\n",
    "model.add(layers.Dropout(0.5)) #Overfitting을 방지하기 위해 입력값의 50%를 0으로 만듬/weight=0.5\n",
    "\n",
    "model.add(layers.Conv2D(48, (4, 4), activation='relu'))\n",
    "#model.add(layers.MaxPooling2D((4, 2)))\n",
    "model.add(layers.Dropout(0.5))\n",
    "\n",
    "model.add(layers.Conv2D(48, (4, 4), activation='relu'))\n",
    "\n",
    "# model 2\n",
    "# model2.add(layers.Conv2D(32, (3, 3), activation='relu', input_shape=(60, 41, 2)))\n",
    "# model2.add(layers.Conv2D(64, (3, 3), activation='relu'))\n",
    "# model2.add(layers.MaxPooling2D((2, 2)))\n",
    "# model2.add(layers.Conv2D(64, (3, 3), activation='relu'))\n",
    "model.add(layers.Flatten())\n",
    "#model.add(layers.Dense(64, activation='relu'))\n",
    "#입력층 생성 Dense(units = num of output neuron), 튜닝 방법: input layer의 node와 output layer의 노드의 평균\n",
    "model.add(layers.Dense(32, input_dim = 64, activation='relu')) #X_train.shape[1]\n",
    "model.add(layers.Dense(5, activation='softmax')) #출력층 생성 Class가 5이므로 units = 5\n",
    "\n",
    "model.summary()\n",
    "# model2.summary()"
   ]
  },
  {
   "cell_type": "code",
   "execution_count": 6,
   "metadata": {},
   "outputs": [
    {
     "name": "stdout",
     "output_type": "stream",
     "text": [
      "Model: \"sequential_1\"\n",
      "_________________________________________________________________\n",
      "Layer (type)                 Output Shape              Param #   \n",
      "=================================================================\n",
      "conv2d_1 (Conv2D)            (None, 61, 38, 24)        792       \n",
      "_________________________________________________________________\n",
      "dropout_1 (Dropout)          (None, 61, 38, 24)        0         \n",
      "_________________________________________________________________\n",
      "conv2d_2 (Conv2D)            (None, 58, 35, 48)        18480     \n",
      "_________________________________________________________________\n",
      "dropout_2 (Dropout)          (None, 58, 35, 48)        0         \n",
      "_________________________________________________________________\n",
      "conv2d_3 (Conv2D)            (None, 55, 32, 48)        36912     \n",
      "_________________________________________________________________\n",
      "flatten_1 (Flatten)          (None, 84480)             0         \n",
      "_________________________________________________________________\n",
      "dense_1 (Dense)              (None, 32)                2703392   \n",
      "_________________________________________________________________\n",
      "dense_2 (Dense)              (None, 5)                 165       \n",
      "=================================================================\n",
      "Total params: 2,759,741\n",
      "Trainable params: 2,759,741\n",
      "Non-trainable params: 0\n",
      "_________________________________________________________________\n"
     ]
    }
   ],
   "source": [
    "# model 1\n",
    "#start = datetime.now()\n",
    "\n",
    "#Classification\n",
    "#Categrical_crossentropy -> multi-class classification\n",
    "model.compile(optimizer='adam',\n",
    "              loss='sparse_categorical_crossentropy',\n",
    "              metrics=['accuracy'])\n",
    "\n",
    "#duration = datetime.now() - start\n",
    "#print(\"Model compilation completed in time: \", duration)\n",
    "\n",
    "model.summary()"
   ]
  },
  {
   "cell_type": "code",
   "execution_count": 7,
   "metadata": {},
   "outputs": [],
   "source": [
    "from keras.callbacks import ModelCheckpoint, EarlyStopping\n",
    "\n",
    "#set early stopping criteria\n",
    "pat = 10 #this is the number of epochs with no improvment after which the training will stop\n",
    "early_stopping = EarlyStopping(monitor='val_loss', patience=pat, verbose=1) # patience -> 성능이 증가 되지 않는 epoch를 몇 번 진행할지 / verbose=1 -> 언제 트레이닝을 멈췄는지 출력\n",
    "\n",
    "#define the model checkpoint callback -> this will keep on saving the best model with validation performance as a physical file\n",
    "model_checkpoint = ModelCheckpoint('hwayeon_Cnn+3fold_sound_sample.h5', verbose=1, save_best_only=True)\n",
    "\n",
    "#define a function to fit the model\n",
    "def fit_and_evaluate(t_x, val_x, t_y, val_y, EPOCHS=50, BATCH_SIZE=64):\n",
    "    results = model.fit(t_x, t_y, epochs=EPOCHS, batch_size=BATCH_SIZE, callbacks=[early_stopping, model_checkpoint], \n",
    "              verbose=1, validation_split=0.2)  \n",
    "    print(\"Val Score: \", model.evaluate(val_x, val_y))\n",
    "    return results"
   ]
  },
  {
   "cell_type": "code",
   "execution_count": 8,
   "metadata": {
    "scrolled": false
   },
   "outputs": [
    {
     "name": "stdout",
     "output_type": "stream",
     "text": [
      "Training on Fold:  1\n",
      "Train on 5452 samples, validate on 1364 samples\n",
      "Epoch 1/50\n",
      "5452/5452 [==============================] - 27s 5ms/step - loss: 7.5411 - accuracy: 0.4932 - val_loss: 1.3669 - val_accuracy: 0.5198\n",
      "\n",
      "Epoch 00001: val_loss improved from inf to 1.36690, saving model to hwayeon_Cnn+3fold_sound_sample.h5\n",
      "Epoch 2/50\n",
      "5452/5452 [==============================] - 27s 5ms/step - loss: 0.8531 - accuracy: 0.6812 - val_loss: 0.6123 - val_accuracy: 0.7999\n",
      "\n",
      "Epoch 00002: val_loss improved from 1.36690 to 0.61234, saving model to hwayeon_Cnn+3fold_sound_sample.h5\n",
      "Epoch 3/50\n",
      "5452/5452 [==============================] - 27s 5ms/step - loss: 0.5773 - accuracy: 0.8072 - val_loss: 0.5386 - val_accuracy: 0.8174\n",
      "\n",
      "Epoch 00003: val_loss improved from 0.61234 to 0.53863, saving model to hwayeon_Cnn+3fold_sound_sample.h5\n",
      "Epoch 4/50\n",
      "5452/5452 [==============================] - 27s 5ms/step - loss: 0.4752 - accuracy: 0.8417 - val_loss: 0.4106 - val_accuracy: 0.8666\n",
      "\n",
      "Epoch 00004: val_loss improved from 0.53863 to 0.41057, saving model to hwayeon_Cnn+3fold_sound_sample.h5\n",
      "Epoch 5/50\n",
      "5452/5452 [==============================] - 27s 5ms/step - loss: 0.4016 - accuracy: 0.8657 - val_loss: 0.4175 - val_accuracy: 0.8592\n",
      "\n",
      "Epoch 00005: val_loss did not improve from 0.41057\n",
      "Epoch 6/50\n",
      "5452/5452 [==============================] - 27s 5ms/step - loss: 0.3726 - accuracy: 0.8742 - val_loss: 0.4065 - val_accuracy: 0.8761\n",
      "\n",
      "Epoch 00006: val_loss improved from 0.41057 to 0.40653, saving model to hwayeon_Cnn+3fold_sound_sample.h5\n",
      "Epoch 7/50\n",
      "5452/5452 [==============================] - 27s 5ms/step - loss: 0.3173 - accuracy: 0.8879 - val_loss: 0.4283 - val_accuracy: 0.8805\n",
      "\n",
      "Epoch 00007: val_loss did not improve from 0.40653\n",
      "Epoch 8/50\n",
      "5452/5452 [==============================] - 27s 5ms/step - loss: 0.2818 - accuracy: 0.8993 - val_loss: 0.4032 - val_accuracy: 0.8805\n",
      "\n",
      "Epoch 00008: val_loss improved from 0.40653 to 0.40318, saving model to hwayeon_Cnn+3fold_sound_sample.h5\n",
      "Epoch 9/50\n",
      "5452/5452 [==============================] - 27s 5ms/step - loss: 0.2694 - accuracy: 0.9046 - val_loss: 0.3793 - val_accuracy: 0.8834\n",
      "\n",
      "Epoch 00009: val_loss improved from 0.40318 to 0.37929, saving model to hwayeon_Cnn+3fold_sound_sample.h5\n",
      "Epoch 10/50\n",
      "5452/5452 [==============================] - 27s 5ms/step - loss: 0.2520 - accuracy: 0.9088 - val_loss: 0.3681 - val_accuracy: 0.8981\n",
      "\n",
      "Epoch 00010: val_loss improved from 0.37929 to 0.36810, saving model to hwayeon_Cnn+3fold_sound_sample.h5\n",
      "Epoch 11/50\n",
      "5452/5452 [==============================] - 27s 5ms/step - loss: 0.2105 - accuracy: 0.9231 - val_loss: 0.3686 - val_accuracy: 0.8952\n",
      "\n",
      "Epoch 00011: val_loss did not improve from 0.36810\n",
      "Epoch 12/50\n",
      "5452/5452 [==============================] - 27s 5ms/step - loss: 0.1999 - accuracy: 0.9266 - val_loss: 0.3859 - val_accuracy: 0.8878\n",
      "\n",
      "Epoch 00012: val_loss did not improve from 0.36810\n",
      "Epoch 13/50\n",
      "5452/5452 [==============================] - 27s 5ms/step - loss: 0.1964 - accuracy: 0.9263 - val_loss: 0.3601 - val_accuracy: 0.8952\n",
      "\n",
      "Epoch 00013: val_loss improved from 0.36810 to 0.36006, saving model to hwayeon_Cnn+3fold_sound_sample.h5\n",
      "Epoch 14/50\n",
      "5452/5452 [==============================] - 27s 5ms/step - loss: 0.1885 - accuracy: 0.9292 - val_loss: 0.3996 - val_accuracy: 0.8922\n",
      "\n",
      "Epoch 00014: val_loss did not improve from 0.36006\n",
      "Epoch 15/50\n",
      "5452/5452 [==============================] - 27s 5ms/step - loss: 0.1670 - accuracy: 0.9349 - val_loss: 0.3831 - val_accuracy: 0.8959\n",
      "\n",
      "Epoch 00015: val_loss did not improve from 0.36006\n",
      "Epoch 16/50\n",
      "5452/5452 [==============================] - 27s 5ms/step - loss: 0.1519 - accuracy: 0.9408 - val_loss: 0.4453 - val_accuracy: 0.8915\n",
      "\n",
      "Epoch 00016: val_loss did not improve from 0.36006\n",
      "Epoch 17/50\n",
      "5452/5452 [==============================] - 27s 5ms/step - loss: 0.1571 - accuracy: 0.9404 - val_loss: 0.3981 - val_accuracy: 0.8952\n",
      "\n",
      "Epoch 00017: val_loss did not improve from 0.36006\n",
      "Epoch 18/50\n",
      "5452/5452 [==============================] - 27s 5ms/step - loss: 0.1451 - accuracy: 0.9472 - val_loss: 0.4545 - val_accuracy: 0.8981\n",
      "\n",
      "Epoch 00018: val_loss did not improve from 0.36006\n",
      "Epoch 19/50\n",
      "5452/5452 [==============================] - 27s 5ms/step - loss: 0.1380 - accuracy: 0.9472 - val_loss: 0.4808 - val_accuracy: 0.8944\n",
      "\n",
      "Epoch 00019: val_loss did not improve from 0.36006\n",
      "Epoch 20/50\n",
      "5452/5452 [==============================] - 27s 5ms/step - loss: 0.1422 - accuracy: 0.9481 - val_loss: 0.3656 - val_accuracy: 0.9025\n",
      "\n",
      "Epoch 00020: val_loss did not improve from 0.36006\n",
      "Epoch 21/50\n",
      "5452/5452 [==============================] - 27s 5ms/step - loss: 0.1326 - accuracy: 0.9508 - val_loss: 0.4039 - val_accuracy: 0.9040\n",
      "\n",
      "Epoch 00021: val_loss did not improve from 0.36006\n",
      "Epoch 22/50\n",
      "5452/5452 [==============================] - 27s 5ms/step - loss: 0.1172 - accuracy: 0.9563 - val_loss: 0.4101 - val_accuracy: 0.9084\n",
      "\n",
      "Epoch 00022: val_loss did not improve from 0.36006\n",
      "Epoch 23/50\n",
      "5452/5452 [==============================] - 27s 5ms/step - loss: 0.1110 - accuracy: 0.9589 - val_loss: 0.4612 - val_accuracy: 0.8908\n",
      "\n",
      "Epoch 00023: val_loss did not improve from 0.36006\n",
      "Epoch 00023: early stopping\n",
      "1705/1705 [==============================] - 1s 815us/step\n",
      "Val Score:  [0.45361386053373387, 0.870381236076355]\n",
      "====================================================================================\n",
      "\n",
      "\n",
      "Training on Fold:  2\n",
      "Train on 5452 samples, validate on 1364 samples\n",
      "Epoch 1/50\n",
      "5452/5452 [==============================] - 27s 5ms/step - loss: 0.2402 - accuracy: 0.9217 - val_loss: 0.1872 - val_accuracy: 0.9355\n",
      "\n",
      "Epoch 00001: val_loss improved from 0.36006 to 0.18720, saving model to hwayeon_Cnn+3fold_sound_sample.h5\n",
      "Epoch 2/50\n",
      "5452/5452 [==============================] - 27s 5ms/step - loss: 0.1659 - accuracy: 0.9415 - val_loss: 0.1845 - val_accuracy: 0.9348\n",
      "\n",
      "Epoch 00002: val_loss improved from 0.18720 to 0.18452, saving model to hwayeon_Cnn+3fold_sound_sample.h5\n",
      "Epoch 3/50\n",
      "5452/5452 [==============================] - 27s 5ms/step - loss: 0.1493 - accuracy: 0.9474 - val_loss: 0.1508 - val_accuracy: 0.9501\n",
      "\n",
      "Epoch 00003: val_loss improved from 0.18452 to 0.15080, saving model to hwayeon_Cnn+3fold_sound_sample.h5\n",
      "Epoch 4/50\n",
      "5452/5452 [==============================] - 27s 5ms/step - loss: 0.1430 - accuracy: 0.9494 - val_loss: 0.2009 - val_accuracy: 0.9282\n",
      "\n",
      "Epoch 00004: val_loss did not improve from 0.15080\n",
      "Epoch 5/50\n",
      "5452/5452 [==============================] - 27s 5ms/step - loss: 0.1296 - accuracy: 0.9501 - val_loss: 0.1572 - val_accuracy: 0.9509\n",
      "\n",
      "Epoch 00005: val_loss did not improve from 0.15080\n",
      "Epoch 6/50\n",
      "5452/5452 [==============================] - 27s 5ms/step - loss: 0.1262 - accuracy: 0.9501 - val_loss: 0.1982 - val_accuracy: 0.9348\n",
      "\n",
      "Epoch 00006: val_loss did not improve from 0.15080\n",
      "Epoch 7/50\n",
      "5452/5452 [==============================] - 27s 5ms/step - loss: 0.1218 - accuracy: 0.9569 - val_loss: 0.1750 - val_accuracy: 0.9391\n",
      "\n",
      "Epoch 00007: val_loss did not improve from 0.15080\n",
      "Epoch 8/50\n",
      "5452/5452 [==============================] - 27s 5ms/step - loss: 0.1030 - accuracy: 0.9595 - val_loss: 0.2196 - val_accuracy: 0.9377\n",
      "\n",
      "Epoch 00008: val_loss did not improve from 0.15080\n",
      "Epoch 9/50\n",
      "5452/5452 [==============================] - 27s 5ms/step - loss: 0.1104 - accuracy: 0.9609 - val_loss: 0.2203 - val_accuracy: 0.9348\n",
      "\n",
      "Epoch 00009: val_loss did not improve from 0.15080\n",
      "Epoch 10/50\n",
      "5452/5452 [==============================] - 27s 5ms/step - loss: 0.1052 - accuracy: 0.9615 - val_loss: 0.1987 - val_accuracy: 0.9377\n",
      "\n",
      "Epoch 00010: val_loss did not improve from 0.15080\n",
      "Epoch 11/50\n",
      "5452/5452 [==============================] - 27s 5ms/step - loss: 0.1028 - accuracy: 0.9613 - val_loss: 0.2310 - val_accuracy: 0.9370\n",
      "\n",
      "Epoch 00011: val_loss did not improve from 0.15080\n",
      "Epoch 12/50\n",
      "5452/5452 [==============================] - 27s 5ms/step - loss: 0.0872 - accuracy: 0.9672 - val_loss: 0.2207 - val_accuracy: 0.9377\n",
      "\n",
      "Epoch 00012: val_loss did not improve from 0.15080\n",
      "Epoch 13/50\n",
      "5452/5452 [==============================] - 27s 5ms/step - loss: 0.0853 - accuracy: 0.9672 - val_loss: 0.2831 - val_accuracy: 0.9150\n",
      "\n",
      "Epoch 00013: val_loss did not improve from 0.15080\n",
      "Epoch 00013: early stopping\n"
     ]
    },
    {
     "name": "stdout",
     "output_type": "stream",
     "text": [
      "1705/1705 [==============================] - 1s 813us/step\n",
      "Val Score:  [0.28457483483199847, 0.9255132079124451]\n",
      "====================================================================================\n",
      "\n",
      "\n",
      "Training on Fold:  3\n",
      "Train on 5452 samples, validate on 1364 samples\n",
      "Epoch 1/50\n",
      "5452/5452 [==============================] - 27s 5ms/step - loss: 0.1680 - accuracy: 0.9485 - val_loss: 0.1607 - val_accuracy: 0.9435\n",
      "\n",
      "Epoch 00001: val_loss did not improve from 0.15080\n",
      "Epoch 2/50\n",
      "5452/5452 [==============================] - 27s 5ms/step - loss: 0.1352 - accuracy: 0.9580 - val_loss: 0.1693 - val_accuracy: 0.9443\n",
      "\n",
      "Epoch 00002: val_loss did not improve from 0.15080\n",
      "Epoch 3/50\n",
      "5452/5452 [==============================] - 27s 5ms/step - loss: 0.0981 - accuracy: 0.9657 - val_loss: 0.1402 - val_accuracy: 0.9567\n",
      "\n",
      "Epoch 00003: val_loss improved from 0.15080 to 0.14025, saving model to hwayeon_Cnn+3fold_sound_sample.h5\n",
      "Epoch 4/50\n",
      "5452/5452 [==============================] - 27s 5ms/step - loss: 0.0963 - accuracy: 0.9644 - val_loss: 0.1712 - val_accuracy: 0.9421\n",
      "\n",
      "Epoch 00004: val_loss did not improve from 0.14025\n",
      "Epoch 5/50\n",
      "5452/5452 [==============================] - 27s 5ms/step - loss: 0.0850 - accuracy: 0.9685 - val_loss: 0.1411 - val_accuracy: 0.9509\n",
      "\n",
      "Epoch 00005: val_loss did not improve from 0.14025\n",
      "Epoch 6/50\n",
      "5452/5452 [==============================] - 27s 5ms/step - loss: 0.0832 - accuracy: 0.9703 - val_loss: 0.1474 - val_accuracy: 0.9509\n",
      "\n",
      "Epoch 00006: val_loss did not improve from 0.14025\n",
      "Epoch 7/50\n",
      "5452/5452 [==============================] - 27s 5ms/step - loss: 0.0847 - accuracy: 0.9696 - val_loss: 0.1399 - val_accuracy: 0.9516\n",
      "\n",
      "Epoch 00007: val_loss improved from 0.14025 to 0.13988, saving model to hwayeon_Cnn+3fold_sound_sample.h5\n",
      "Epoch 8/50\n",
      "5452/5452 [==============================] - 27s 5ms/step - loss: 0.0813 - accuracy: 0.9718 - val_loss: 0.2104 - val_accuracy: 0.9391\n",
      "\n",
      "Epoch 00008: val_loss did not improve from 0.13988\n",
      "Epoch 9/50\n",
      "5452/5452 [==============================] - 27s 5ms/step - loss: 0.0763 - accuracy: 0.9707 - val_loss: 0.1614 - val_accuracy: 0.9450\n",
      "\n",
      "Epoch 00009: val_loss did not improve from 0.13988\n",
      "Epoch 10/50\n",
      "5452/5452 [==============================] - 27s 5ms/step - loss: 0.0894 - accuracy: 0.9681 - val_loss: 0.2032 - val_accuracy: 0.9318\n",
      "\n",
      "Epoch 00010: val_loss did not improve from 0.13988\n",
      "Epoch 11/50\n",
      "5452/5452 [==============================] - 27s 5ms/step - loss: 0.0917 - accuracy: 0.9672 - val_loss: 0.2121 - val_accuracy: 0.9421\n",
      "\n",
      "Epoch 00011: val_loss did not improve from 0.13988\n",
      "Epoch 12/50\n",
      "5452/5452 [==============================] - 27s 5ms/step - loss: 0.0695 - accuracy: 0.9732 - val_loss: 0.2275 - val_accuracy: 0.9384\n",
      "\n",
      "Epoch 00012: val_loss did not improve from 0.13988\n",
      "Epoch 13/50\n",
      "5452/5452 [==============================] - 27s 5ms/step - loss: 0.0835 - accuracy: 0.9696 - val_loss: 0.2308 - val_accuracy: 0.9370\n",
      "\n",
      "Epoch 00013: val_loss did not improve from 0.13988\n",
      "Epoch 14/50\n",
      "5452/5452 [==============================] - 27s 5ms/step - loss: 0.0628 - accuracy: 0.9762 - val_loss: 0.2114 - val_accuracy: 0.9355\n",
      "\n",
      "Epoch 00014: val_loss did not improve from 0.13988\n",
      "Epoch 15/50\n",
      "5452/5452 [==============================] - 27s 5ms/step - loss: 0.0617 - accuracy: 0.9767 - val_loss: 0.2346 - val_accuracy: 0.9406\n",
      "\n",
      "Epoch 00015: val_loss did not improve from 0.13988\n",
      "Epoch 16/50\n",
      "5452/5452 [==============================] - 27s 5ms/step - loss: 0.1105 - accuracy: 0.9606 - val_loss: 0.2587 - val_accuracy: 0.9370\n",
      "\n",
      "Epoch 00016: val_loss did not improve from 0.13988\n",
      "Epoch 17/50\n",
      "5452/5452 [==============================] - 27s 5ms/step - loss: 0.0880 - accuracy: 0.9716 - val_loss: 0.2270 - val_accuracy: 0.9384\n",
      "\n",
      "Epoch 00017: val_loss did not improve from 0.13988\n",
      "Epoch 00017: early stopping\n",
      "1705/1705 [==============================] - 1s 811us/step\n",
      "Val Score:  [0.18721910746784504, 0.9372434020042419]\n",
      "====================================================================================\n",
      "\n",
      "\n"
     ]
    }
   ],
   "source": [
    "n_folds=3\n",
    "epochs=50\n",
    "batch_size=64 # 128samples train 후 정답 확인\n",
    "\n",
    "#save the model history in a list after fitting so that we can plot later\n",
    "model_history = [] \n",
    "\n",
    "for i in range(n_folds):\n",
    "    print(\"Training on Fold: \",i+1)\n",
    "    t_x, val_x, t_y, val_y = train_test_split(features, labels, test_size=0.2, random_state = np.random.randint(1,1000, 1)[0])\n",
    "    model_history.append(fit_and_evaluate(t_x, val_x, t_y, val_y, epochs, batch_size))\n",
    "    print(\"=======\"*12, end=\"\\n\\n\\n\")"
   ]
  },
  {
   "cell_type": "code",
   "execution_count": 14,
   "metadata": {},
   "outputs": [
    {
     "data": {
      "image/png": "[encoded data removed]",
      "text/plain": [
       "<Figure size 432x288 with 1 Axes>"
      ]
     },
     "metadata": {
      "needs_background": "light"
     },
     "output_type": "display_data"
    }
   ],
   "source": [
    "import matplotlib.pyplot as plt\n",
    "from matplotlib.pyplot import specgram\n",
    "\n",
    "plt.title('Accuracies vs Epochs')\n",
    "plt.plot(model_history[0].history['accuracy'], label='Training Fold 1')\n",
    "plt.plot(model_history[1].history['accuracy'], label='Training Fold 2')\n",
    "plt.plot(model_history[2].history['accuracy'], label='Training Fold 3')\n",
    "plt.legend()\n",
    "plt.show()"
   ]
  },
  {
   "cell_type": "code",
   "execution_count": 10,
   "metadata": {},
   "outputs": [],
   "source": [
    "from keras.models import load_model\n",
    "#Load the model that was saved by ModelCheckpoint\n",
    "model = load_model('hwayeon_Cnn+3fold_sound_sample.h5')"
   ]
  },
  {
   "cell_type": "code",
   "execution_count": 11,
   "metadata": {},
   "outputs": [
    {
     "data": {
      "image/png": "[encoded data removed]",
      "text/plain": [
       "<Figure size 432x288 with 1 Axes>"
      ]
     },
     "metadata": {
      "needs_background": "light"
     },
     "output_type": "display_data"
    }
   ],
   "source": [
    "plt.title('Train Accuracy vs Val Accuracy')\n",
    "plt.plot(model_history[0].history['accuracy'], label='Train Accuracy Fold 1', color='black')\n",
    "plt.plot(model_history[0].history['val_accuracy'], label='Val Accuracy Fold 1', color='black', linestyle = \"dashdot\")\n",
    "plt.plot(model_history[1].history['accuracy'], label='Train Accuracy Fold 2', color='red', )\n",
    "plt.plot(model_history[1].history['val_accuracy'], label='Val Accuracy Fold 2', color='red', linestyle = \"dashdot\")\n",
    "plt.plot(model_history[2].history['accuracy'], label='Train Accuracy Fold 3', color='green', )\n",
    "plt.plot(model_history[2].history['val_accuracy'], label='Val Accuracy Fold 3', color='green', linestyle = \"dashdot\")\n",
    "plt.legend()\n",
    "plt.show()"
   ]
  },
  {
   "cell_type": "code",
   "execution_count": 12,
   "metadata": {},
   "outputs": [],
   "source": [
    "#Load the model that was saved by ModelCheckpoint\n",
    "model = load_model('hwayeon_Cnn+3fold_sound_sample.h5')"
   ]
  },
  {
   "cell_type": "code",
   "execution_count": 13,
   "metadata": {},
   "outputs": [
    {
     "name": "stdout",
     "output_type": "stream",
     "text": [
      "1705/1705 [==============================] - 1s 843us/step\n"
     ]
    },
    {
     "data": {
      "text/plain": [
       "[0.09595638415789849, 0.9665688872337341]"
      ]
     },
     "execution_count": 13,
     "metadata": {},
     "output_type": "execute_result"
    }
   ],
   "source": [
    "model.evaluate(X_test, Y_test)"
   ]
  },
  {
   "cell_type": "code",
   "execution_count": null,
   "metadata": {},
   "outputs": [],
   "source": []
  }
 ],
 "metadata": {
  "kernelspec": {
   "display_name": "Python 3",
   "language": "python",
   "name": "python3"
  },
  "language_info": {
   "codemirror_mode": {
    "name": "ipython",
    "version": 3
   },
   "file_extension": ".py",
   "mimetype": "text/x-python",
   "name": "python",
   "nbconvert_exporter": "python",
   "pygments_lexer": "ipython3",
   "version": "3.7.3"
  }
 },
 "nbformat": 4,
 "nbformat_minor": 2
}
